{
 "cells": [
  {
   "cell_type": "markdown",
   "id": "196629df-aa0f-4a0f-b22f-a00fc87ed58d",
   "metadata": {},
   "source": [
    "## Calculus"
   ]
  },
  {
   "cell_type": "markdown",
   "id": "39465def-0c1d-4da3-8028-5f639bf9860e",
   "metadata": {},
   "source": [
    "This Jupyter Notebook througout Pandas allows you from initial capital, annual saving, saving years, and expected average annual returns to obtain a dataframe report year after year of capital with interests, the cumulative capital without interests, the difference (only interests), and the annual saving income.\n",
    "It is possible to change the annual saving after the years previously specified, if you plan to change your investments in future."
   ]
  },
  {
   "cell_type": "code",
   "execution_count": null,
   "id": "45a7b955-a031-4e4e-978e-0448e52a93e7",
   "metadata": {},
   "outputs": [],
   "source": [
    "import pandas as pd"
   ]
  },
  {
   "cell_type": "code",
   "execution_count": null,
   "id": "e56d144b-f794-4696-8fc8-f3ef93fd0d1c",
   "metadata": {},
   "outputs": [],
   "source": [
    "def report(c, ai1, p1, ai2, p2, aar) :\n",
    "    \"\"\"\n",
    "    Generate a pandas dataframe with columns: 'Year', 'Capital', 'Cumulative', 'Yeld', 'Annual Income'\n",
    "    \n",
    "    Parameters:\n",
    "    c = initial capital\n",
    "    ai1 = initial annual saving \n",
    "    p1 = period for first annual saving (Years)\n",
    "    ai2 = second annual saving \n",
    "    p1 = period for second annual saving (Years)\n",
    "    aar = average annual return (%)\n",
    "    \"\"\"\n",
    "    df = pd.DataFrame(columns=['Year', 'Capital', 'Cumulative', 'Yeld', 'Annual Income'])\n",
    "    year = 0\n",
    "    cumulative = c\n",
    "    start = {'Year': year, 'Capital': c, 'Annual Income':c, 'Cumulative':c, 'Yeld':0}\n",
    "    df.loc[0] = start\n",
    "    for i in range(1, p1+1) :\n",
    "        investment = ai1 + (df.iloc[-1,1]*(1+aar/100)).round(2)\n",
    "        cumulative = cumulative + ai1\n",
    "        yeld = investment - cumulative\n",
    "        \n",
    "        n = {'Year': ++year, 'Capital': investment, 'Cumulative':cumulative, 'Yeld': yeld, 'Annual Income':ai1}\n",
    "        df.loc[len(df)] = n\n",
    "        df = df.reset_index(drop=True)\n",
    "\n",
    "    if(p2 != 0):\n",
    "        for i in range(1, p2+1) :\n",
    "            investment = ai2 + (df.iloc[-1,1]*(1+aar/100)).round(2)\n",
    "            cumulative = cumulative + ai2\n",
    "            yeld = investment - cumulative\n",
    "            \n",
    "            n = {'Year': ++year, 'Capital': investment, 'Cumulative':cumulative, 'Yeld': yeld, 'Annual Income':ai2}\n",
    "            df.loc[len(df)] = n\n",
    "            df = df.reset_index(drop=True)\n",
    "    \n",
    "    return df"
   ]
  },
  {
   "cell_type": "code",
   "execution_count": null,
   "id": "ee0cd814-ee4d-4adf-b92b-d79ccf984377",
   "metadata": {
    "jp-MarkdownHeadingCollapsed": true
   },
   "outputs": [],
   "source": [
    "def interesting_calculus():\n",
    "    \"\"\"\n",
    "    Start input request to generate a report about compound interest\n",
    "    \"\"\"\n",
    "    complete = False\n",
    "    while complete==False:\n",
    "        try:\n",
    "            start_capital = float(input('Insert initial capital'))\n",
    "            annual_investment1 = int(input('Insert annual investment'))\n",
    "            investment_period1 = int(input('Insert investment period (Years)'))\n",
    "            average_annual_return = int(input('Insert average annual return (%)'))\n",
    "            flag = input('Prevision to change after? (Y/N)').upper()\n",
    "            if (flag == 'Y'):\n",
    "                annual_investment2 = int(input('Insert annual investment (2nd)'))\n",
    "                investment_period2 = int(input('Insert investment period (Years) (2nd)'))\n",
    "            else:\n",
    "                annual_investment2 = 0\n",
    "                investment_period2 = 0\n",
    "            complete=True\n",
    "            \n",
    "        except ValueError:\n",
    "            print('Sorry, Not a Number, retry.')\n",
    "    \n",
    "    return report( start_capital, annual_investment1, investment_period1, annual_investment2, investment_period2, average_annual_return )"
   ]
  },
  {
   "cell_type": "code",
   "execution_count": null,
   "id": "1deb05e3-4318-4aaf-bf93-8025b9686c9e",
   "metadata": {},
   "outputs": [],
   "source": [
    "interesting_calculus()"
   ]
  }
 ],
 "metadata": {
  "kernelspec": {
   "display_name": "Python 3 (ipykernel)",
   "language": "python",
   "name": "python3"
  },
  "language_info": {
   "codemirror_mode": {
    "name": "ipython",
    "version": 3
   },
   "file_extension": ".py",
   "mimetype": "text/x-python",
   "name": "python",
   "nbconvert_exporter": "python",
   "pygments_lexer": "ipython3",
   "version": "3.12.2"
  }
 },
 "nbformat": 4,
 "nbformat_minor": 5
}
